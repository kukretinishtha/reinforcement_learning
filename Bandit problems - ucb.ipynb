{
 "cells": [
  {
   "cell_type": "code",
   "execution_count": 1,
   "metadata": {},
   "outputs": [],
   "source": [
    "# Importing the libraries\n",
    "import numpy as np\n",
    "import matplotlib.pyplot as plt\n",
    "import pandas as pd\n",
    "\n",
    "# Importing the dataset\n",
    "dataset = pd.read_csv('./Ads_Optimisation.csv')\n"
   ]
  },
  {
   "cell_type": "code",
   "execution_count": 2,
   "metadata": {},
   "outputs": [
    {
     "output_type": "stream",
     "name": "stdout",
     "text": [
      "Ad 1     0.1703\nAd 2     0.1295\nAd 3     0.0728\nAd 4     0.1196\nAd 5     0.2695\nAd 6     0.0126\nAd 7     0.1112\nAd 8     0.2091\nAd 9     0.0952\nAd 10    0.0489\ndtype: float64\n"
     ]
    }
   ],
   "source": [
    "res=dataset.mean()\n",
    "print(res)"
   ]
  },
  {
   "cell_type": "code",
   "execution_count": 4,
   "metadata": {},
   "outputs": [],
   "source": [
    "# Implementing Random Selection\n",
    "import random\n",
    "N = 10000\n",
    "d = 10\n",
    "ads_selected = []\n",
    "total_reward = 0\n",
    "for n in range(0, N):\n",
    "    ad = random.randrange(d)\n",
    "    ads_selected.append(ad)\n",
    "    reward = dataset.values[n, ad]\n",
    "    total_reward = total_reward + reward"
   ]
  },
  {
   "cell_type": "code",
   "execution_count": 5,
   "metadata": {},
   "outputs": [
    {
     "output_type": "execute_result",
     "data": {
      "text/plain": [
       "1256"
      ]
     },
     "metadata": {},
     "execution_count": 5
    }
   ],
   "source": [
    "total_reward"
   ]
  },
  {
   "cell_type": "code",
   "execution_count": 6,
   "metadata": {},
   "outputs": [
    {
     "output_type": "execute_result",
     "data": {
      "text/plain": [
       "10000"
      ]
     },
     "metadata": {},
     "execution_count": 6
    }
   ],
   "source": [
    "len(ads_selected)"
   ]
  },
  {
   "cell_type": "code",
   "execution_count": 7,
   "metadata": {},
   "outputs": [
    {
     "output_type": "execute_result",
     "data": {
      "text/plain": [
       "4    1021\n",
       "0    1017\n",
       "7    1009\n",
       "8    1008\n",
       "6    1006\n",
       "3    1003\n",
       "9     997\n",
       "1     995\n",
       "2     976\n",
       "5     968\n",
       "dtype: int64"
      ]
     },
     "metadata": {},
     "execution_count": 7
    }
   ],
   "source": [
    "pd.Series(ads_selected).value_counts(normalize=False)"
   ]
  },
  {
   "cell_type": "code",
   "execution_count": 8,
   "metadata": {},
   "outputs": [
    {
     "output_type": "stream",
     "name": "stdout",
     "text": [
      "4    5464\n7    1268\n0     786\n1     537\n6     458\n3     440\n8     338\n2     294\n9     213\n5     202\ndtype: int64\n2098\n"
     ]
    }
   ],
   "source": [
    "# Implementing UCB\n",
    "import math\n",
    "N = 10000\n",
    "d = 10\n",
    "ads_selected = []\n",
    "numbers_of_selections = [0] * d\n",
    "sums_of_reward = [0] * d\n",
    "total_reward = 0\n",
    "\n",
    "for n in range(0, N):\n",
    "    ad = 0\n",
    "    max_upper_bound = 0\n",
    "    for i in range(0, d):\n",
    "        if (numbers_of_selections[i] > 0):\n",
    "            average_reward = sums_of_reward[i] / numbers_of_selections[i]\n",
    "            delta_i = 1.5 * math.sqrt(math.log(n+1) / numbers_of_selections[i])\n",
    "            upper_bound = average_reward + delta_i\n",
    "        else:\n",
    "            upper_bound = 1e400\n",
    "        if upper_bound > max_upper_bound:\n",
    "            max_upper_bound = upper_bound\n",
    "            ad = i\n",
    "    ads_selected.append(ad)\n",
    "    numbers_of_selections[ad] += 1\n",
    "    reward = dataset.values[n, ad]\n",
    "    sums_of_reward[ad] += reward\n",
    "    total_reward += reward\n",
    "    \n",
    "#    print(numbers_of_selections)\n",
    "print(pd.Series(ads_selected).value_counts(normalize=False))\n",
    "print(total_reward)"
   ]
  },
  {
   "cell_type": "code",
   "execution_count": 9,
   "metadata": {},
   "outputs": [
    {
     "output_type": "execute_result",
     "data": {
      "text/plain": [
       "2098"
      ]
     },
     "metadata": {},
     "execution_count": 9
    }
   ],
   "source": [
    "total_reward"
   ]
  },
  {
   "cell_type": "code",
   "execution_count": 10,
   "metadata": {},
   "outputs": [],
   "source": [
    "def argmax(q_values):\n",
    "    \"\"\"\n",
    "    Takes in a list of q_values and returns the index\n",
    "    of the item with the highest value. Breaks ties randomly.\n",
    "    returns: int - the index of the highest value in q_values\n",
    "    \"\"\"\n",
    "    top = float(\"-inf\")\n",
    "    ties = []\n",
    "    \n",
    "    top=max(q_values)\n",
    "    \n",
    "    j=0\n",
    "    for i in q_values:\n",
    "        # if a value in q_values is greater than the highest value, then update top and reset ties to zero\n",
    "        # if a value is equal to top value, then add the index to ties (hint: do this no matter what)\n",
    "        # Note: You do not have to follow this exact solution. You can choose to do your own implementation.\n",
    "        if i==top:\n",
    "            ties.append(j)\n",
    "        j+=1\n",
    "    \n",
    "    #return ties[0]\n",
    "    # return a random selection from ties. (hint: look at np.random.choice)\n",
    "    return np.random.choice(ties)\n",
    "\n"
   ]
  },
  {
   "cell_type": "code",
   "execution_count": 11,
   "metadata": {},
   "outputs": [
    {
     "output_type": "stream",
     "name": "stdout",
     "text": [
      "[0.19093539054966244, 0.08955223880597013, 0.08064516129032259, 0.11325301204819264, 0.26853776853776756, 0.010638297872340425, 0.0911764705882353, 0.18659793814433004, 0.11111111111111115, 0.03947368421052634]\n4    5772\n0    1037\n7     970\n3     415\n8     405\n6     340\n1     335\n2     310\n9     228\n5     188\ndtype: int64\n2118\n"
     ]
    }
   ],
   "source": [
    "# Implementing UCB my way\n",
    "import math\n",
    "N = 10000\n",
    "d = 10\n",
    "ads_selected = []\n",
    "numbers_of_selections = [0] * d\n",
    "Q = [0] * d\n",
    "sums_of_reward = [0] * d\n",
    "total_reward = 0\n",
    "arg_ads_selected=[]\n",
    "for n in range(0, N):\n",
    "    ad = 0\n",
    "    upper_bound=[]\n",
    "    for i in range(0, d):\n",
    "        if (numbers_of_selections[i] > 0):\n",
    "            delta_i = math.sqrt(2 * math.log(n+1) / numbers_of_selections[i])\n",
    "            upper_bound.append(Q[i] + delta_i)\n",
    "        else:\n",
    "            upper_bound.append(1e400)\n",
    "            #continue\n",
    "\n",
    "    ad=argmax(upper_bound)\n",
    "\n",
    "    arg_ads_selected.append(ad)\n",
    "    numbers_of_selections[ad] += 1\n",
    "\n",
    "    reward=dataset.iloc[n, ad]\n",
    "    \n",
    "    rdf=1/numbers_of_selections[ad] * (reward - Q[ad])\n",
    "    Q[ad] += rdf\n",
    "    \n",
    "    sums_of_reward[ad] += reward\n",
    "    total_reward += reward\n",
    "\n",
    "print(Q)\n",
    "print(pd.Series(arg_ads_selected).value_counts(normalize=False))\n",
    "print(total_reward)"
   ]
  },
  {
   "cell_type": "code",
   "execution_count": 12,
   "metadata": {},
   "outputs": [
    {
     "output_type": "execute_result",
     "data": {
      "text/plain": [
       "[1037, 335, 310, 415, 5772, 188, 340, 970, 405, 228]"
      ]
     },
     "metadata": {},
     "execution_count": 12
    }
   ],
   "source": [
    "numbers_of_selections"
   ]
  }
 ],
 "metadata": {
  "kernelspec": {
   "name": "python3",
   "display_name": "Python 3.8.10 64-bit"
  },
  "language_info": {
   "codemirror_mode": {
    "name": "ipython",
    "version": 3
   },
   "file_extension": ".py",
   "mimetype": "text/x-python",
   "name": "python",
   "nbconvert_exporter": "python",
   "pygments_lexer": "ipython3",
   "version": "3.8.10"
  },
  "interpreter": {
   "hash": "31f2aee4e71d21fbe5cf8b01ff0e069b9275f58929596ceb00d14d90e3e16cd6"
  }
 },
 "nbformat": 4,
 "nbformat_minor": 2
}